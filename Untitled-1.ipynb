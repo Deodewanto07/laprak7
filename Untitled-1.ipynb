{
 "cells": [
  {
   "cell_type": "code",
   "execution_count": 13,
   "metadata": {},
   "outputs": [
    {
     "name": "stdout",
     "output_type": "stream",
     "text": [
      "Kedua kata tersebut merupakan kata anagram\n"
     ]
    }
   ],
   "source": [
    "#LATIHAN 7.1\n",
    "kata1 = input(\"Masukkan kata pertama: \")\n",
    "kata2 = input(\"Masukkan kata kedua: \")\n",
    "\n",
    "urutan_huruf1 = sorted(kata1)\n",
    "urutan_huruf2 = sorted(kata2)\n",
    "\n",
    "if len(urutan_huruf1) != len(urutan_huruf2):\n",
    "    print(\"Kedua kata tersebut bukan kata anagram\")\n",
    "else:\n",
    "    if urutan_huruf1 == urutan_huruf2:\n",
    "        print(\"Kedua kata tersebut merupakan kata anagram\")\n",
    "    else:\n",
    "        print(\"Kedua kata tersebut bukan kata anagram\")"
   ]
  },
  {
   "cell_type": "code",
   "execution_count": 15,
   "metadata": {},
   "outputs": [
    {
     "name": "stdout",
     "output_type": "stream",
     "text": [
      "makan  ada 3 buah\n"
     ]
    }
   ],
   "source": [
    "#LATIHAN 7.2\n",
    "kalimat = input(\"Masukkan suatu kalimat: \")\n",
    "kata = input(\"Masukkan kata yang ada pada kalimat yang akan dihitung: \")\n",
    "\n",
    "jumlahkata = kalimat.lower().count(kata.lower())\n",
    "\n",
    "print(f\"{kata} ada {jumlahkata} buah\")"
   ]
  },
  {
   "cell_type": "code",
   "execution_count": 8,
   "metadata": {},
   "outputs": [
    {
     "name": "stdout",
     "output_type": "stream",
     "text": [
      "saya tidak suka memancing ikan\n"
     ]
    }
   ],
   "source": [
    "#LATIHAN 7.3\n",
    "kalimat = input(\"Masukkan satu kalimat: \")\n",
    "\n",
    "hapus_spasi = kalimat.split()\n",
    "kalimat_terakhir = ' '.join(hapus_spasi)\n",
    "\n",
    "print(kalimat_terakhir)\n"
   ]
  },
  {
   "cell_type": "code",
   "execution_count": 4,
   "metadata": {},
   "outputs": [
    {
     "name": "stdout",
     "output_type": "stream",
     "text": [
      "Terpendek: red\n",
      "Terpanjang: snakes\n"
     ]
    }
   ],
   "source": [
    "#LATIHAN 7.4\n",
    "kalimat = input(\"Masukkan satu kalimat saja: \")\n",
    "\n",
    "kata = kalimat.split()\n",
    "\n",
    "kata_terpendek = kata[0]\n",
    "kata_terpanjang = kata[0]\n",
    "\n",
    "for i in kata:\n",
    "    if len(i) < len(kata_terpendek):\n",
    "        kata_terpendek = i\n",
    "    elif len(i) > len(kata_terpanjang):\n",
    "        kata_terpanjang = i\n",
    "\n",
    "print(\"Terpendek:\", kata_terpendek)\n",
    "print(\"Terpanjang:\", kata_terpanjang)"
   ]
  }
 ],
 "metadata": {
  "kernelspec": {
   "display_name": "Python 3",
   "language": "python",
   "name": "python3"
  },
  "language_info": {
   "codemirror_mode": {
    "name": "ipython",
    "version": 3
   },
   "file_extension": ".py",
   "mimetype": "text/x-python",
   "name": "python",
   "nbconvert_exporter": "python",
   "pygments_lexer": "ipython3",
   "version": "3.12.2"
  },
  "orig_nbformat": 4
 },
 "nbformat": 4,
 "nbformat_minor": 2
}
